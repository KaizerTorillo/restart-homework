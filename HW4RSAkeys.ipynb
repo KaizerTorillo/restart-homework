{
 "cells": [
  {
   "cell_type": "code",
   "execution_count": 27,
   "metadata": {},
   "outputs": [],
   "source": [
    "#Generate private and public keys with RSA\n",
    "\n",
    "import rsa  \n",
    "from Crypto.PublicKey import RSA\n",
    "\n",
    "public_key, private_key = rsa.newkeys(2048)\n",
    "with open(\"public_key.pem\", 'wb') as f:\n",
    "    f.write(public_key.save_pkcs1(\"PEM\"))\n",
    "\n",
    "\n",
    "privatefile = open(\"private_key.pem\", 'wb')\n",
    "with open(\"private_key.pem\", 'wb') as f:\n",
    "    f.write(private_key.save_pkcs1(\"PEM\"))\n",
    "    \n"
   ]
  },
  {
   "cell_type": "code",
   "execution_count": 28,
   "metadata": {},
   "outputs": [],
   "source": [
    "#Encrypting message with a public key\n",
    "\n",
    "with open(\"public_key.pem\", 'rb') as f:\n",
    "    public_key = rsa.PublicKey.load_pkcs1(f.read())\n",
    "\n",
    "\n",
    "\n",
    "your_message = str(input(\"what is your message?\"))\n",
    "encrypted = rsa.encrypt(your_message.encode(), public_key)\n",
    "\n",
    "with open(\"encrypted.message\", 'wb') as f:\n",
    "    f.write(encrypted)\n",
    "\n"
   ]
  },
  {
   "cell_type": "code",
   "execution_count": 29,
   "metadata": {},
   "outputs": [
    {
     "name": "stdout",
     "output_type": "stream",
     "text": [
      "Roses are red, my head is heavy\n"
     ]
    }
   ],
   "source": [
    "#Decrypting the message with a private key\n",
    "\n",
    "with open(\"private_key.pem\", 'rb') as f:\n",
    "    private_key = rsa.PrivateKey.load_pkcs1(f.read())\n",
    "\n",
    "encrypted = open(\"encrypted.message\", 'rb').read()\n",
    "decrypted = rsa.decrypt(encrypted, private_key)\n",
    "print(decrypted.decode())"
   ]
  },
  {
   "cell_type": "code",
   "execution_count": 30,
   "metadata": {},
   "outputs": [
    {
     "name": "stdout",
     "output_type": "stream",
     "text": [
      "SHA-256\n"
     ]
    }
   ],
   "source": [
    "#Signing a message with the private key\n",
    "\n",
    "my_message = \"This is a signed message from me.\"\n",
    "signature = rsa.sign(my_message.encode(), private_key, \"SHA-256\")\n",
    "with open(\"my_signature\", 'wb') as f:\n",
    "    f.write(signature)\n",
    "\n",
    "#Verifying message \n",
    "with open(\"my_signature\", 'rb') as f:\n",
    "    signature = f.read()\n",
    "    \n",
    "print(rsa.verify(my_message.encode(), signature, public_key))"
   ]
  }
 ],
 "metadata": {
  "kernelspec": {
   "display_name": "Python 3",
   "language": "python",
   "name": "python3"
  },
  "language_info": {
   "codemirror_mode": {
    "name": "ipython",
    "version": 3
   },
   "file_extension": ".py",
   "mimetype": "text/x-python",
   "name": "python",
   "nbconvert_exporter": "python",
   "pygments_lexer": "ipython3",
   "version": "3.12.0"
  }
 },
 "nbformat": 4,
 "nbformat_minor": 2
}
