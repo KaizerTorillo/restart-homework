{
 "cells": [
  {
   "cell_type": "code",
   "execution_count": 36,
   "metadata": {},
   "outputs": [
    {
     "name": "stdout",
     "output_type": "stream",
     "text": [
      "b\"\\xc4\\xaa\\xf9\\x19X'\\xee\\xdd\\xea\\x19\\x14(\\xe9'D\\x91\\x13$M\\xa6\\x1a\\xac6\\x9e\\x85\\xf8\\xf3lI\\t\\x92l\"\n",
      "Your message is help.\n",
      "This is your encrypted message.\n",
      "(b'-\\xfd\\xe0n', b'\\x81\\xdc\\xf2,\\xb5\\xc7\\xdah\\x19{\\xf5O\\xf7\\xe0\\x9d\\x15')\n"
     ]
    },
    {
     "ename": "AttributeError",
     "evalue": "'tuple' object has no attribute 'nonce'",
     "output_type": "error",
     "traceback": [
      "\u001b[1;31m---------------------------------------------------------------------------\u001b[0m",
      "\u001b[1;31mAttributeError\u001b[0m                            Traceback (most recent call last)",
      "\u001b[1;32md:\\School Related\\Cert\\AWS\\AWS folder\\restart-homework\\HW3AES256.ipynb Cell 1\u001b[0m line \u001b[0;36m3\n\u001b[0;32m     <a href='vscode-notebook-cell:/d%3A/School%20Related/Cert/AWS/AWS%20folder/restart-homework/HW3AES256.ipynb#W0sZmlsZQ%3D%3D?line=24'>25</a>\u001b[0m \u001b[39m#   Decrypting a message.\u001b[39;00m\n\u001b[0;32m     <a href='vscode-notebook-cell:/d%3A/School%20Related/Cert/AWS/AWS%20folder/restart-homework/HW3AES256.ipynb#W0sZmlsZQ%3D%3D?line=25'>26</a>\u001b[0m \u001b[39m#ciphertext_input = str(input(\"Enter the message you want to decode.\"))\u001b[39;00m\n\u001b[0;32m     <a href='vscode-notebook-cell:/d%3A/School%20Related/Cert/AWS/AWS%20folder/restart-homework/HW3AES256.ipynb#W0sZmlsZQ%3D%3D?line=26'>27</a>\u001b[0m \u001b[39m#ciphertext_input = ciphertext_input.encode(\"utf8\")\u001b[39;00m\n\u001b[0;32m     <a href='vscode-notebook-cell:/d%3A/School%20Related/Cert/AWS/AWS%20folder/restart-homework/HW3AES256.ipynb#W0sZmlsZQ%3D%3D?line=27'>28</a>\u001b[0m \u001b[39m#key_input = str(input(\"Enter the correct key.\"))\u001b[39;00m\n\u001b[0;32m     <a href='vscode-notebook-cell:/d%3A/School%20Related/Cert/AWS/AWS%20folder/restart-homework/HW3AES256.ipynb#W0sZmlsZQ%3D%3D?line=28'>29</a>\u001b[0m \u001b[39m#key_input = key_input.encode(\"utf8\")\u001b[39;00m\n\u001b[0;32m     <a href='vscode-notebook-cell:/d%3A/School%20Related/Cert/AWS/AWS%20folder/restart-homework/HW3AES256.ipynb#W0sZmlsZQ%3D%3D?line=29'>30</a>\u001b[0m cipher \u001b[39m=\u001b[39m AES\u001b[39m.\u001b[39mnew(key, AES\u001b[39m.\u001b[39mMODE_EAX)\n\u001b[1;32m---> <a href='vscode-notebook-cell:/d%3A/School%20Related/Cert/AWS/AWS%20folder/restart-homework/HW3AES256.ipynb#W0sZmlsZQ%3D%3D?line=30'>31</a>\u001b[0m deciphered \u001b[39m=\u001b[39m cipher\u001b[39m.\u001b[39mdecrypt_and_verify(ciphertext\u001b[39m.\u001b[39;49mnonce, header, tag)\n\u001b[0;32m     <a href='vscode-notebook-cell:/d%3A/School%20Related/Cert/AWS/AWS%20folder/restart-homework/HW3AES256.ipynb#W0sZmlsZQ%3D%3D?line=31'>32</a>\u001b[0m \u001b[39mprint\u001b[39m(\u001b[39m\"\u001b[39m\u001b[39mYour message is:\u001b[39m\u001b[39m\"\u001b[39m)\n\u001b[0;32m     <a href='vscode-notebook-cell:/d%3A/School%20Related/Cert/AWS/AWS%20folder/restart-homework/HW3AES256.ipynb#W0sZmlsZQ%3D%3D?line=32'>33</a>\u001b[0m \u001b[39mprint\u001b[39m(deciphered)\n",
      "\u001b[1;31mAttributeError\u001b[0m: 'tuple' object has no attribute 'nonce'"
     ]
    }
   ],
   "source": [
    "#   This HW is about installing and using pycryptodome library to access AES256 algorithm.\n",
    "#   I will be performing symmetrical encyption using AES256.\n",
    "\n",
    "from Crypto.Cipher import AES\n",
    "from Crypto.Random import get_random_bytes\n",
    "\n",
    "#   Generating a 32-byte (256-bit) key.\n",
    "key = get_random_bytes(32)\n",
    "print(key)\n",
    "key_file = open(\"Saved_key.txt\", 'w')\n",
    "key_file.write(str(key))\n",
    "key_file.close()\n",
    "\n",
    "#   Cipher initialised as Encrypt mode.\n",
    "cipher = AES.new(key, AES.MODE_EAX)\n",
    "\n",
    "#   Encrypting a message.\n",
    "message = input(\"Please enter a message to be encrypted.\")\n",
    "print(f\"Your message is {message}.\")\n",
    "message = message.encode(\"utf8\")        #I would get Object type <class 'str'> cannot be passed to C code. Have used .encode(\"utf8\") to encode into bytearray.\n",
    "ciphertext = cipher.encrypt_and_digest(message)\n",
    "print(\"This is your encrypted message.\")\n",
    "print(ciphertext)\n",
    "\n",
    "#   Decrypting a message.\n",
    "#ciphertext_input = str(input(\"Enter the message you want to decode.\"))\n",
    "#ciphertext_input = ciphertext_input.encode(\"utf8\")\n",
    "#key_input = str(input(\"Enter the correct key.\"))\n",
    "#key_input = key_input.encode(\"utf8\")\n",
    "cipher = AES.new(key, AES.MODE_EAX)\n",
    "deciphered = cipher.decrypt_and_verify(ciphertext)\n",
    "print(\"Your message is:\")\n",
    "print(deciphered)\n",
    "\n",
    "#   Check if the deciphered text is the same as the original.\n",
    "assert deciphered == message\n"
   ]
  }
 ],
 "metadata": {
  "kernelspec": {
   "display_name": "Python 3",
   "language": "python",
   "name": "python3"
  },
  "language_info": {
   "codemirror_mode": {
    "name": "ipython",
    "version": 3
   },
   "file_extension": ".py",
   "mimetype": "text/x-python",
   "name": "python",
   "nbconvert_exporter": "python",
   "pygments_lexer": "ipython3",
   "version": "3.12.0"
  }
 },
 "nbformat": 4,
 "nbformat_minor": 2
}
