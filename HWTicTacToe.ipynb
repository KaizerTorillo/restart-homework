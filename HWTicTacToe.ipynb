{
 "cells": [
  {
   "cell_type": "code",
   "execution_count": 8,
   "metadata": {},
   "outputs": [
    {
     "name": "stdout",
     "output_type": "stream",
     "text": [
      "          |          |          \n",
      "          |          |          \n",
      "          |          |          \n",
      "          |          |          \n",
      "__________|__________|__________\n",
      "          |          |          \n",
      "          |          |          \n",
      "          |          |          \n",
      "          |          |          \n",
      "__________|__________|__________\n",
      "          |          |          \n",
      "          |          |          \n",
      "          |          |          \n",
      "          |          |          \n",
      "          |          |          \n"
     ]
    }
   ],
   "source": [
    "size = 0\n",
    "\n",
    "while size < 1 and True:\n",
    "    try:\n",
    "        size = int(input(\"Please enter a whole number higher than 0\"))\n",
    "    except ValueError:\n",
    "        print(\"You have entered an invalid answer. Please enter a whole number higher than 0.\")\n",
    "    \n",
    "\n",
    "\n",
    "\n",
    "y = 3 * size\n",
    "horbar = \"_\"\n",
    "vertbar = \"|\"\n",
    "space = \" \"\n",
    "\n",
    "intersect_line = horbar*size*2 + vertbar + horbar*size*2 + vertbar + horbar*size*2\n",
    "filler_line = space*size*2 + vertbar + space*size*2 + vertbar + space*size*2\n",
    "\n",
    "\n",
    "if y == 3:\n",
    "    print(intersect_line)\n",
    "    print(intersect_line)\n",
    "    print(filler_line)   \n",
    "else:\n",
    "    for x in range(1, y+1):\n",
    "        if x != y and (x % size) == 0:\n",
    "            print(intersect_line)\n",
    "        elif x == y:\n",
    "            print(filler_line)\n",
    "        else:\n",
    "            print(filler_line)"
   ]
  }
 ],
 "metadata": {
  "kernelspec": {
   "display_name": "Python 3",
   "language": "python",
   "name": "python3"
  },
  "language_info": {
   "codemirror_mode": {
    "name": "ipython",
    "version": 3
   },
   "file_extension": ".py",
   "mimetype": "text/x-python",
   "name": "python",
   "nbconvert_exporter": "python",
   "pygments_lexer": "ipython3",
   "version": "3.12.0"
  }
 },
 "nbformat": 4,
 "nbformat_minor": 2
}
