{
 "cells": [
  {
   "cell_type": "code",
   "execution_count": 1,
   "metadata": {},
   "outputs": [
    {
     "data": {
      "text/plain": [
       "'Joshua'"
      ]
     },
     "execution_count": 1,
     "metadata": {},
     "output_type": "execute_result"
    }
   ],
   "source": [
    "a = input(\"What is your name?\")\n",
    "a"
   ]
  },
  {
   "cell_type": "code",
   "execution_count": 1,
   "metadata": {},
   "outputs": [
    {
     "name": "stdout",
     "output_type": "stream",
     "text": [
      "0\n"
     ]
    }
   ],
   "source": [
    "NEW_HOURLY_SALARY = 50\n",
    "\n",
    "from typing import Final \n",
    "#Importing the Final class. Which is basically someone elses code that we're borrowing\n",
    "\n",
    "NEW_HOURLY_SALARY:Final[int] = 60\n",
    "#Final is the constant.\n",
    "\n",
    "NEW_HOURLY_SALARY = 0\n",
    "#Python can't acutlaly stop you changing it, but using this imported class we can at leaast make it so it warns us.\n",
    "\n",
    "print(NEW_HOURLY_SALARY)"
   ]
  },
  {
   "cell_type": "code",
   "execution_count": 4,
   "metadata": {},
   "outputs": [
    {
     "name": "stdout",
     "output_type": "stream",
     "text": [
      "Alvin\n",
      "50\n",
      "51\n"
     ]
    }
   ],
   "source": [
    "my_info = {\"name\": \"Alvin\", \"age\": 50} #This is a dictionary with an item and key value separated by commas, that also uses a set. \n",
    "name = my_info[\"name\"]                  #{key:value}\n",
    "age=my_info[\"age\"]\n",
    "print(name)\n",
    "print(age)\n",
    "my_info[\"age\"] = my_info[\"age\"] + 1\n",
    "print(my_info[\"age\"])"
   ]
  },
  {
   "cell_type": "code",
   "execution_count": 5,
   "metadata": {},
   "outputs": [
    {
     "name": "stdout",
     "output_type": "stream",
     "text": [
      "{'pet': 'dog', 'vet': 'Pet Care', 'my_dictionary': {...}}\n"
     ]
    }
   ],
   "source": [
    "my_dict = dict()\n",
    "my_dict[\"pet\"] = \"dog\"\n",
    "my_dict[\"vet\"] = \"Pet Care\"\n",
    "my_dict[\"my_dictionary\"] = my_dict\n",
    "print(my_dict)"
   ]
  },
  {
   "cell_type": "code",
   "execution_count": 7,
   "metadata": {},
   "outputs": [
    {
     "name": "stdout",
     "output_type": "stream",
     "text": [
      "Hello! Welcome To Re/Start\n",
      "I hope your day is going well!\n"
     ]
    }
   ],
   "source": [
    "f = open(\"text.txt\", \"r\")\n",
    "print(f.read())"
   ]
  },
  {
   "cell_type": "code",
   "execution_count": 8,
   "metadata": {},
   "outputs": [
    {
     "name": "stdout",
     "output_type": "stream",
     "text": [
      "Hello! Welcome To Re/Start\n",
      "\n",
      "I hope your day is going well!\n",
      "\n",
      "Hi there\n",
      "\n",
      "Whaddup\n",
      "\n",
      "Are you alright?\n",
      "\n",
      "There is a nice pie in the fridge for you.\n"
     ]
    }
   ],
   "source": [
    "f = open(\"text.txt\", \"r\")\n",
    "for x in f:\n",
    "        print(x)"
   ]
  },
  {
   "cell_type": "code",
   "execution_count": 12,
   "metadata": {},
   "outputs": [
    {
     "name": "stdout",
     "output_type": "stream",
     "text": [
      "cow\n",
      "dog\n",
      "Nice, you are a dog person!\n"
     ]
    }
   ],
   "source": [
    "fav_animal = \"\"\n",
    "while fav_animal != \"cat\" and fav_animal != \"dog\":\n",
    "    fav_animal = input(\"Are you a dog or a cat person?\")\n",
    "    print(fav_animal)\n",
    "?print(\"Nice, you are a \" + fav_animal + \" person!\")"
   ]
  },
  {
   "cell_type": "code",
   "execution_count": 2,
   "metadata": {},
   "outputs": [
    {
     "name": "stdout",
     "output_type": "stream",
     "text": [
      "COlor is red.\n"
     ]
    }
   ],
   "source": [
    "from enum import Enum           #What is ENUM?\n",
    "\n",
    "class Color(Enum):\n",
    "    RED = 1 \n",
    "    BLUE = 2 \n",
    "    GREEN = 3\n",
    "    ORANGE = 4\n",
    "    VIOLET = 5\n",
    "    YELLOW = 6\n",
    "    MAROON = 7\n",
    "    \n",
    "my_color = Color.RED\n",
    "\n",
    "match my_color:\n",
    "    case Color.RED:\n",
    "        print(\"Color is red.\")\n",
    "    case Color.BLUE:\n",
    "        print(\"Color is blue.\")\n",
    "    case Color.GREEN:\n",
    "        print(\"Color is green.\")\n",
    "    case _:\n",
    "        print(\"Not my color.\")"
   ]
  },
  {
   "cell_type": "code",
   "execution_count": 3,
   "metadata": {},
   "outputs": [
    {
     "name": "stdout",
     "output_type": "stream",
     "text": [
      "0. Priya\n",
      "1. Amy\n",
      "2. Sean\n",
      "3. Nick\n",
      "4. Jacob\n"
     ]
    }
   ],
   "source": [
    "my_list = [\"Priya\", \"Amy\", \"Sean\", \"Nick\", \"Jacob\"]\n",
    "for index, item in enumerate(my_list):\n",
    "    print(f\"{index}. {item}\")"
   ]
  },
  {
   "cell_type": "code",
   "execution_count": 8,
   "metadata": {},
   "outputs": [
    {
     "name": "stdout",
     "output_type": "stream",
     "text": [
      "y=5\n"
     ]
    }
   ],
   "source": [
    "y = 5\n",
    "\n",
    "def times_two(x):\n",
    "    y = x\n",
    "    return 2*x\n",
    "\n",
    "times_two(6)\n",
    "print(f\"y={y}\")"
   ]
  },
  {
   "cell_type": "code",
   "execution_count": 1,
   "metadata": {},
   "outputs": [
    {
     "ename": "AssertionError",
     "evalue": "I expect 1 and 0 to be different",
     "output_type": "error",
     "traceback": [
      "\u001b[1;31m---------------------------------------------------------------------------\u001b[0m",
      "\u001b[1;31mAssertionError\u001b[0m                            Traceback (most recent call last)",
      "\u001b[1;32md:\\School Related\\Cert\\AWS\\AWS folder\\restart-homework\\Untitled-1.ipynb Cell 11\u001b[0m line \u001b[0;36m1\n\u001b[1;32m----> <a href='vscode-notebook-cell:/d%3A/School%20Related/Cert/AWS/AWS%20folder/restart-homework/Untitled-1.ipynb#X13sZmlsZQ%3D%3D?line=0'>1</a>\u001b[0m \u001b[39massert\u001b[39;00m \u001b[39m1\u001b[39m \u001b[39m==\u001b[39m \u001b[39m0\u001b[39m, \u001b[39m\"\u001b[39m\u001b[39mI expect 1 and 0 to be different\u001b[39m\u001b[39m\"\u001b[39m\n",
      "\u001b[1;31mAssertionError\u001b[0m: I expect 1 and 0 to be different"
     ]
    }
   ],
   "source": [
    "assert 1 == 0, \"I expect 1 and 0 to be different\"   #What is an assert statement?\n",
    "#The assert statement is used to debug code, it testts if a condition in the code returens True.\n",
    "#Otherwise it will return an Assertion error."
   ]
  },
  {
   "cell_type": "code",
   "execution_count": 3,
   "metadata": {},
   "outputs": [
    {
     "ename": "AssertionError",
     "evalue": "",
     "output_type": "error",
     "traceback": [
      "\u001b[1;31m---------------------------------------------------------------------------\u001b[0m",
      "\u001b[1;31mAssertionError\u001b[0m                            Traceback (most recent call last)",
      "\u001b[1;32md:\\School Related\\Cert\\AWS\\AWS folder\\restart-homework\\Untitled-1.ipynb Cell 12\u001b[0m line \u001b[0;36m4\n\u001b[0;32m      <a href='vscode-notebook-cell:/d%3A/School%20Related/Cert/AWS/AWS%20folder/restart-homework/Untitled-1.ipynb#X14sZmlsZQ%3D%3D?line=1'>2</a>\u001b[0m     \u001b[39mreturn\u001b[39;00m \u001b[39m2\u001b[39m \u001b[39m*\u001b[39m x\n\u001b[0;32m      <a href='vscode-notebook-cell:/d%3A/School%20Related/Cert/AWS/AWS%20folder/restart-homework/Untitled-1.ipynb#X14sZmlsZQ%3D%3D?line=2'>3</a>\u001b[0m \u001b[39massert\u001b[39;00m double_value(\u001b[39m1\u001b[39m) \u001b[39m==\u001b[39m \u001b[39m2\u001b[39m\n\u001b[1;32m----> <a href='vscode-notebook-cell:/d%3A/School%20Related/Cert/AWS/AWS%20folder/restart-homework/Untitled-1.ipynb#X14sZmlsZQ%3D%3D?line=3'>4</a>\u001b[0m \u001b[39massert\u001b[39;00m double_value(\u001b[39m2\u001b[39m) \u001b[39m==\u001b[39m \u001b[39m2\u001b[39m\n\u001b[0;32m      <a href='vscode-notebook-cell:/d%3A/School%20Related/Cert/AWS/AWS%20folder/restart-homework/Untitled-1.ipynb#X14sZmlsZQ%3D%3D?line=4'>5</a>\u001b[0m \u001b[39massert\u001b[39;00m double_value(\u001b[39m2\u001b[39m) \u001b[39m==\u001b[39m \u001b[39m2\u001b[39m\n",
      "\u001b[1;31mAssertionError\u001b[0m: "
     ]
    }
   ],
   "source": [
    "def double_value(x):\n",
    "    return 2 * x\n",
    "assert double_value(1) == 2\n",
    "assert double_value(2) == 2\n",
    "assert double_value(2) == 2"
   ]
  },
  {
   "cell_type": "code",
   "execution_count": 6,
   "metadata": {},
   "outputs": [
    {
     "name": "stdout",
     "output_type": "stream",
     "text": [
      "name 'x' is not defined\n",
      "program is stil operating normally?\n"
     ]
    }
   ],
   "source": [
    "try:\n",
    "    print(x)\n",
    "except Exception as e:\n",
    "    #print(\"an error\")\n",
    "    print(e)\n",
    "    \n",
    "print(\"program is stil operating normally?\")"
   ]
  },
  {
   "cell_type": "code",
   "execution_count": 9,
   "metadata": {},
   "outputs": [
    {
     "name": "stdout",
     "output_type": "stream",
     "text": [
      "I caught a zero division error\n",
      "program is stil operating normally?\n"
     ]
    }
   ],
   "source": [
    "#Stops at first specific error if defined. Will only show one error if there are multiple errors present.\n",
    "#If there is an error in the first line, it will skip everything under the same line.\n",
    "try:\n",
    "    print(1/0)\n",
    "    print(x)\n",
    "except ZeroDivisionError as zde:\n",
    "     print(\"I caught a zero division error\")\n",
    "     print(zde)\n",
    "except Exception as e:\n",
    "    #print(\"an error\")\n",
    "    print(e)\n",
    "    \n",
    "print(\"program is stil operating normally?\")"
   ]
  },
  {
   "cell_type": "code",
   "execution_count": 16,
   "metadata": {},
   "outputs": [
    {
     "name": "stdout",
     "output_type": "stream",
     "text": [
      "we divided 2 by 3 = 0.6666666666666666\n",
      "0.6666666666666666\n",
      "You cannot divide by zero\n",
      "unsupported operand type(s) for /: 'str' and 'int'\n"
     ]
    }
   ],
   "source": [
    "#Can use else statement with try and except.\n",
    "\n",
    "def divide_numbers(x,y):\n",
    "    try:\n",
    "        results = x / y\n",
    "    except ZeroDivisionError as zde:\n",
    "        print(\"You cannot divide by zero\")\n",
    "    except Exception as e:\n",
    "        print(e)\n",
    "    else:\n",
    "        print(f\"we divided {x} by {y} = {results}\")\n",
    "        return results\n",
    "print(divide_numbers(2, 3))\n",
    "divide_numbers(1, 0)\n",
    "divide_numbers(\"we\", 2)"
   ]
  },
  {
   "cell_type": "code",
   "execution_count": null,
   "metadata": {},
   "outputs": [],
   "source": [
    "class Cars:\n",
    "    pass    #sometimes you just want to define the class and have nothing in it for now. "
   ]
  },
  {
   "cell_type": "code",
   "execution_count": 1,
   "metadata": {},
   "outputs": [
    {
     "name": "stdout",
     "output_type": "stream",
     "text": [
      "<__main__.Cars object at 0x00000227914A58B0>\n"
     ]
    }
   ],
   "source": [
    "class Cars:\n",
    "    def __init__(self, brand, mileage_km):\n",
    "        self.brand = brand\n",
    "        \n",
    "my_car = Cars(brand = \"Mercedes\")\n",
    "your_car = Cars(brand = \"Toyota\")\n",
    "print(my_car)\n",
    "    \n",
    "    "
   ]
  },
  {
   "cell_type": "code",
   "execution_count": 8,
   "metadata": {},
   "outputs": [
    {
     "name": "stdout",
     "output_type": "stream",
     "text": [
      "{'brand': 'Toyota', 'mileage_km': 41000}\n",
      "<__main__.Cars object at 0x00000227916171A0>\n"
     ]
    }
   ],
   "source": [
    "class Cars:\n",
    "    def __init__(self, brand, mileage_km):\n",
    "        self.brand = brand\n",
    "        self.mileage_km = mileage_km\n",
    "        \n",
    "    def driving(self, distance):\n",
    "        self.mileage_km = self.mileage_km + distance    #Please note that self-mileage_km was used here as mileage_km is undefined under this funciton. \n",
    "\n",
    "my_car = Cars(brand = \"Toyota\", mileage_km = 40000)\n",
    "\n",
    "my_car.driving(distance = 1000) \n",
    "\n",
    "print(my_car.__dict__)\n",
    "print(my_car)"
   ]
  },
  {
   "cell_type": "code",
   "execution_count": 15,
   "metadata": {},
   "outputs": [
    {
     "name": "stdout",
     "output_type": "stream",
     "text": [
      "{'brand': 'BMW', 'mileage_km': 2800, 'range': 500}\n",
      "<__main__.ElectricCar object at 0x0000022791778770>\n",
      "{'brand': 'Honda', 'mileage_km': 1900, 'fuel_consumption': 7, 'fuel_level': 50}\n",
      "<__main__.ICEcar object at 0x0000022791750BC0>\n"
     ]
    }
   ],
   "source": [
    "class Cars:\n",
    "    def __init__(self, brand, mileage_km):\n",
    "        self.brand = brand\n",
    "        self.mileage_km = mileage_km\n",
    "        \n",
    "    def driving(self, distance):        #driving method\n",
    "        self.mileage_km = self.mileage_km + distance\n",
    "\n",
    "\n",
    "        \n",
    "class ElectricCar(Cars): #subclass\n",
    "    def __init__(self, brand, mileage_km, range):      #putting pass here wills allow non-defined function/class\n",
    "        super().__init__(brand, mileage_km)             #no need to put self as attribute in (brand, mileage_km) as super() is already doing that.\n",
    "        self.range = range                             #Ideally, you would use super() to show that you are calling the same class. Using the name of a clas usually means that it is another class.\n",
    "\n",
    "\n",
    "\n",
    "class ICEcar(Cars):\n",
    "    def __init__(self, brand, mileage_km, fuel_consumption, fuel_level):\n",
    "        Cars.__init__(self, brand, mileage_km)\n",
    "        self.fuel_consumption = fuel_consumption\n",
    "        self.fuel_level = fuel_level\n",
    "\n",
    "\n",
    "\n",
    "my_car = ElectricCar(\"BMW\", 2500, 500)\n",
    "my_car.driving(distance = 300)\n",
    "\n",
    "#my_ice = ICEcar(brand = \"Honda\", mileage_km=5000)\n",
    "my_ice = ICEcar(\"Honda\", 1300, 7, 50)\n",
    "my_ice.driving(distance = 600)\n",
    "\n",
    "print(my_car.__dict__)\n",
    "print(my_car)\n",
    "\n",
    "print(my_ice.__dict__)\n",
    "print(my_ice)"
   ]
  }
 ],
 "metadata": {
  "kernelspec": {
   "display_name": "Python 3",
   "language": "python",
   "name": "python3"
  },
  "language_info": {
   "codemirror_mode": {
    "name": "ipython",
    "version": 3
   },
   "file_extension": ".py",
   "mimetype": "text/x-python",
   "name": "python",
   "nbconvert_exporter": "python",
   "pygments_lexer": "ipython3",
   "version": "3.12.0"
  }
 },
 "nbformat": 4,
 "nbformat_minor": 2
}
