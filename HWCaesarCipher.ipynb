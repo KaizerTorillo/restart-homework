{
 "cells": [
  {
   "cell_type": "code",
   "execution_count": 53,
   "metadata": {},
   "outputs": [
    {
     "name": "stdout",
     "output_type": "stream",
     "text": [
      "[24, 6, ' ', 2, 19, 6, '!']\n",
      "['Y', 'G', ' ', 'C', 'T', 'G', '!']\n",
      "YG CTG!\n",
      "YG CTG!\n"
     ]
    }
   ],
   "source": [
    "#Encrypting a message\n",
    "\n",
    "alphabet = {0 : \"A\", 1 : \"B\", 2 : \"C\", 3 : \"D\", 4 : \"E\", 5 : \"F\",\n",
    "            6 : \"G\", 7 : \"H\", 8 : \"I\", 9 : \"J\", 10 : \"K\", 11 : \"L\",\n",
    "            12 : \"M\", 13 : \"N\", 14 : \"O\", 15 : \"P\", 16 : \"Q\", 17 : \"R\",\n",
    "            18 : \"S\", 19 : \"T\", 20 : \"U\", 21 : \"V\", 22 : \"W\", 23 : \"X\",\n",
    "            24 : \"Y\", 25: \"Z\", \" \" : \" \"}\n",
    "\n",
    "alphabet2 = {\"A\" : 0, \"B\" : 1, \"C\" : 2, \"D\" : 3, \"E\" : 4, \"F\" : 5,\n",
    "            \"G\" : 6, \"H\" : 7, \"I\" : 8, \"J\" : 9, \"K\" : 10, \"L\" : 11,\n",
    "            \"M\" : 12, \"N\" : 13, \"O\" : 14, \"P\" : 15, \"Q\" : 16, \"R\" : 17,\n",
    "            \"S\" : 18, \"T\" : 19, \"U\" : 20, \"V\" : 21, \"W\" : 22, \"X\" : 23,\n",
    "            \"Y\" : 24, \"Z\" : 25, \" \" : \" \"}\n",
    "\n",
    "\n",
    "def caesar_encrypt(input_str, n):\n",
    "    letternumconvert = []\n",
    "    encrypt = []\n",
    "    emptydelimiter = \"\"\n",
    "    input_str = input_str.upper()\n",
    "    for letter in input_str:\n",
    "        if letter not in alphabet2:\n",
    "            letternumconvert.append(letter)\n",
    "        elif letter == \" \":\n",
    "            letternumconvert.append(\" \")\n",
    "        else:\n",
    "            code = alphabet2[letter] + n\n",
    "            letternumconvert.append(code)\n",
    "    for number in letternumconvert:\n",
    "        if number not in alphabet:\n",
    "            encrypt.append(number)\n",
    "        elif number == \" \":\n",
    "            encrypt.append(\" \")\n",
    "        elif number > 25:\n",
    "            remainder = number % 25\n",
    "            newletter = alphabet[remainder - 1]\n",
    "            encrypt.append(newletter)\n",
    "        else:\n",
    "            newletter = alphabet[number]\n",
    "            encrypt.append(newletter)\n",
    "    encrypted = emptydelimiter.join(encrypt)\n",
    "    return str(encrypted)\n",
    "\n",
    "input_str = str(input(\"Enter your message.\"))\n",
    "n = int(input(\"Enter your desired shift value.\"))\n",
    "returned_code = caesar_encrypt(input_str, n)\n",
    "print(returned_code)"
   ]
  },
  {
   "cell_type": "code",
   "execution_count": 93,
   "metadata": {},
   "outputs": [
    {
     "name": "stdout",
     "output_type": "stream",
     "text": [
      "[22, 4, ' ', 0, 17, 4, '!']\n",
      "['W', 'E', ' ', 'A', 'R', 'E', '!']\n",
      "WE ARE!\n"
     ]
    }
   ],
   "source": [
    "#Decrypting a message.\n",
    "\n",
    "alphabet = {0 : \"A\", 1 : \"B\", 2 : \"C\", 3 : \"D\", 4 : \"E\", 5 : \"F\",\n",
    "            6 : \"G\", 7 : \"H\", 8 : \"I\", 9 : \"J\", 10 : \"K\", 11 : \"L\",\n",
    "            12 : \"M\", 13 : \"N\", 14 : \"O\", 15 : \"P\", 16 : \"Q\", 17 : \"R\",\n",
    "            18 : \"S\", 19 : \"T\", 20 : \"U\", 21 : \"V\", 22 : \"W\", 23 : \"X\",\n",
    "            24 : \"Y\", 25: \"Z\", \" \" : \" \"}\n",
    "\n",
    "alphabet2 = {\"A\" : 0, \"B\" : 1, \"C\" : 2, \"D\" : 3, \"E\" : 4, \"F\" : 5,\n",
    "            \"G\" : 6, \"H\" : 7, \"I\" : 8, \"J\" : 9, \"K\" : 10, \"L\" : 11,\n",
    "            \"M\" : 12, \"N\" : 13, \"O\" : 14, \"P\" : 15, \"Q\" : 16, \"R\" : 17,\n",
    "            \"S\" : 18, \"T\" : 19, \"U\" : 20, \"V\" : 21, \"W\" : 22, \"X\" : 23,\n",
    "            \"Y\" : 24, \"Z\" : 25, \" \" : \" \"}\n",
    "\n",
    "    \n",
    "def caesar_decrypt(input_str, n):\n",
    "    letternumconvert = []\n",
    "    encrypt = []\n",
    "    emptydelimiter = \"\"\n",
    "    input_str = input_str.upper()\n",
    "    for letter in input_str:\n",
    "        if letter not in alphabet2:\n",
    "            letternumconvert.append(letter)\n",
    "        elif letter == \" \":\n",
    "            letternumconvert.append(\" \")\n",
    "        else:\n",
    "            code = alphabet2[letter] - n\n",
    "            letternumconvert.append(code)\n",
    "    for number in letternumconvert:\n",
    "        if number == \" \":\n",
    "            encrypt.append(\" \")    \n",
    "        elif type(number) is str:\n",
    "            encrypt.append(number)            \n",
    "        elif number < 0:\n",
    "            remainder = abs(number)\n",
    "            remainder = 26 - remainder\n",
    "            newletter = alphabet[remainder]\n",
    "            encrypt.append(newletter)        \n",
    "\n",
    "        else:\n",
    "            newletter = alphabet[number]\n",
    "            encrypt.append(newletter)\n",
    "    encrypted = emptydelimiter.join(encrypt)\n",
    "    return str(encrypted)\n",
    "\n",
    "input_str = str(input(\"Enter your message.\"))\n",
    "n = int(input(\"Enter your desired shift value.\"))\n",
    "decrypted_code = caesar_decrypt(input_str, n)\n",
    "print(decrypted_code)"
   ]
  }
 ],
 "metadata": {
  "kernelspec": {
   "display_name": "Python 3",
   "language": "python",
   "name": "python3"
  },
  "language_info": {
   "codemirror_mode": {
    "name": "ipython",
    "version": 3
   },
   "file_extension": ".py",
   "mimetype": "text/x-python",
   "name": "python",
   "nbconvert_exporter": "python",
   "pygments_lexer": "ipython3",
   "version": "3.12.0"
  }
 },
 "nbformat": 4,
 "nbformat_minor": 2
}
