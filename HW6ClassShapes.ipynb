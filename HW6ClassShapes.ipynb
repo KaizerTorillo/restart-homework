{
 "cells": [
  {
   "cell_type": "code",
   "execution_count": 25,
   "metadata": {},
   "outputs": [
    {
     "name": "stdout",
     "output_type": "stream",
     "text": [
      "{'height': 4, 'base': 3, 'hypotenuse': 5}\n",
      "It is a right triangle. It's area is 6.0\n"
     ]
    }
   ],
   "source": [
    "#This Hw is an exercise in using classes to define the area of shapes.\n",
    "\n",
    "class Shape:\n",
    "    def area(self):\n",
    "        pass\n",
    "    \n",
    "    \n",
    "class Triangle(Shape):\n",
    "    def __init__(self, base, height, hypotenuse):\n",
    "        self.height = height\n",
    "        self.base = base\n",
    "        self.hypotenuse = hypotenuse\n",
    "    \n",
    "    def area(self):\n",
    "        return 0.5 * self.base * self.height\n",
    "    \n",
    "    def right_triangle(self):\n",
    "        return self.base**2 + self.height**2 == self.hypotenuse**2\n",
    "    \n",
    "first_shape = Triangle(3, 4, 5)\n",
    "print(first_shape.__dict__)\n",
    "\n",
    "if first_shape.right_triangle():\n",
    "    print(f\"It is a right triangle. It's area is {first_shape.area()}\")\n",
    "else:\n",
    "    print(\"This shape is not a right triangle.\")"
   ]
  }
 ],
 "metadata": {
  "kernelspec": {
   "display_name": "Python 3",
   "language": "python",
   "name": "python3"
  },
  "language_info": {
   "codemirror_mode": {
    "name": "ipython",
    "version": 3
   },
   "file_extension": ".py",
   "mimetype": "text/x-python",
   "name": "python",
   "nbconvert_exporter": "python",
   "pygments_lexer": "ipython3",
   "version": "3.12.0"
  }
 },
 "nbformat": 4,
 "nbformat_minor": 2
}
