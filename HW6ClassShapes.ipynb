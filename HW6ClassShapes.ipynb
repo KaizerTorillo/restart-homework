{
 "cells": [
  {
   "cell_type": "code",
   "execution_count": 2,
   "metadata": {},
   "outputs": [
    {
     "name": "stdout",
     "output_type": "stream",
     "text": [
      "{'height': 5, 'base': 4, 'hypotenuse': 6}\n",
      "This shape is not a right triangle.\n"
     ]
    }
   ],
   "source": [
    "#This Hw is an exercise in using classes to define the area of shapes.\n",
    "\n",
    "class Shape:\n",
    "    def area(self):\n",
    "        pass\n",
    "    \n",
    "    \n",
    "class Triangle(Shape):\n",
    "    def __init__(self, base, height, hypotenuse):\n",
    "        super().__init__()\n",
    "        self.height = height\n",
    "        self.base = base\n",
    "        self.hypotenuse = hypotenuse\n",
    "    \n",
    "    def area(self):\n",
    "        return 0.5 * self.base * self.height\n",
    "    \n",
    "    def right_triangle(self):\n",
    "        return self.base**2 + self.height**2 == self.hypotenuse**2\n",
    "    \n",
    "first_shape = Triangle(3, 4, 5)\n",
    "first_shape = Triangle(4, 5, 6)\n",
    "#first_shape = Triangle(6, 7, 8)\n",
    "print(first_shape.__dict__)\n",
    "\n",
    "if first_shape.right_triangle():\n",
    "    print(f\"It is a right triangle. It's area is {first_shape.area()}\")\n",
    "else:\n",
    "    print(\"This shape is not a right triangle.\")"
   ]
  },
  {
   "cell_type": "code",
   "execution_count": 3,
   "metadata": {},
   "outputs": [
    {
     "name": "stdout",
     "output_type": "stream",
     "text": [
      "{'width': 5, 'height': 5}\n",
      "It is a square. The are is 25\n"
     ]
    }
   ],
   "source": [
    "class Shape:\n",
    "    def area(self):\n",
    "        pass\n",
    "    \n",
    "class Square(Shape):\n",
    "    def __init__(self, width, height):\n",
    "        super().__init__()\n",
    "        self.width = width\n",
    "        self.height = height\n",
    "    \n",
    "    def area(self):\n",
    "        return self.width * self.height\n",
    "    \n",
    "    def is_square(self):\n",
    "        return self.width == self.height\n",
    "    \n",
    "second_shape = Square(5,5)\n",
    "print(second_shape.__dict__)\n",
    "\n",
    "if second_shape.is_square():\n",
    "    print(f\"It is a square. The area is {second_shape.area()}\")\n",
    "else:\n",
    "    print(\"This shape is not a sqaure.\")"
   ]
  },
  {
   "cell_type": "code",
   "execution_count": null,
   "metadata": {},
   "outputs": [],
   "source": []
  }
 ],
 "metadata": {
  "kernelspec": {
   "display_name": "Python 3",
   "language": "python",
   "name": "python3"
  },
  "language_info": {
   "codemirror_mode": {
    "name": "ipython",
    "version": 3
   },
   "file_extension": ".py",
   "mimetype": "text/x-python",
   "name": "python",
   "nbconvert_exporter": "python",
   "pygments_lexer": "ipython3",
   "version": "3.12.0"
  }
 },
 "nbformat": 4,
 "nbformat_minor": 2
}
