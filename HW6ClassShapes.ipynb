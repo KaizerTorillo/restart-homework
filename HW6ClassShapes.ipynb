{
 "cells": [
  {
   "cell_type": "code",
   "execution_count": 12,
   "metadata": {},
   "outputs": [
    {
     "ename": "AttributeError",
     "evalue": "'Triangle' object has no attribute 'calculated_area'",
     "output_type": "error",
     "traceback": [
      "\u001b[1;31m---------------------------------------------------------------------------\u001b[0m",
      "\u001b[1;31mAttributeError\u001b[0m                            Traceback (most recent call last)",
      "\u001b[1;32md:\\School Related\\Cert\\AWS\\AWS folder\\restart-homework\\HW6ClassShapes.ipynb Cell 1\u001b[0m line \u001b[0;36m2\n\u001b[0;32m     <a href='vscode-notebook-cell:/d%3A/School%20Related/Cert/AWS/AWS%20folder/restart-homework/HW6ClassShapes.ipynb#W0sZmlsZQ%3D%3D?line=19'>20</a>\u001b[0m         \u001b[39mself\u001b[39m\u001b[39m.\u001b[39mcalculated_area \u001b[39m=\u001b[39m (\u001b[39mself\u001b[39m\u001b[39m.\u001b[39mx \u001b[39m+\u001b[39m \u001b[39mself\u001b[39m\u001b[39m.\u001b[39my)\u001b[39m/\u001b[39m\u001b[39m2\u001b[39m\n\u001b[0;32m     <a href='vscode-notebook-cell:/d%3A/School%20Related/Cert/AWS/AWS%20folder/restart-homework/HW6ClassShapes.ipynb#W0sZmlsZQ%3D%3D?line=24'>25</a>\u001b[0m right_triangle \u001b[39m=\u001b[39m Triangle(\u001b[39m3\u001b[39m, \u001b[39m4\u001b[39m, \u001b[39m5\u001b[39m) \n\u001b[1;32m---> <a href='vscode-notebook-cell:/d%3A/School%20Related/Cert/AWS/AWS%20folder/restart-homework/HW6ClassShapes.ipynb#W0sZmlsZQ%3D%3D?line=25'>26</a>\u001b[0m right_triangle\u001b[39m.\u001b[39;49marea(calculated_area \u001b[39m=\u001b[39;49m \u001b[39m3.5\u001b[39;49m)\n\u001b[0;32m     <a href='vscode-notebook-cell:/d%3A/School%20Related/Cert/AWS/AWS%20folder/restart-homework/HW6ClassShapes.ipynb#W0sZmlsZQ%3D%3D?line=26'>27</a>\u001b[0m \u001b[39mprint\u001b[39m(right_triangle)   \n\u001b[0;32m     <a href='vscode-notebook-cell:/d%3A/School%20Related/Cert/AWS/AWS%20folder/restart-homework/HW6ClassShapes.ipynb#W0sZmlsZQ%3D%3D?line=27'>28</a>\u001b[0m \u001b[39mprint\u001b[39m(right_triangle\u001b[39m.\u001b[39m\u001b[39m__dict__\u001b[39m)   \n",
      "\u001b[1;32md:\\School Related\\Cert\\AWS\\AWS folder\\restart-homework\\HW6ClassShapes.ipynb Cell 1\u001b[0m line \u001b[0;36m1\n\u001b[0;32m     <a href='vscode-notebook-cell:/d%3A/School%20Related/Cert/AWS/AWS%20folder/restart-homework/HW6ClassShapes.ipynb#W0sZmlsZQ%3D%3D?line=16'>17</a>\u001b[0m \u001b[39mself\u001b[39m\u001b[39m.\u001b[39my \u001b[39m=\u001b[39m \u001b[39mself\u001b[39m\u001b[39m.\u001b[39my\n\u001b[0;32m     <a href='vscode-notebook-cell:/d%3A/School%20Related/Cert/AWS/AWS%20folder/restart-homework/HW6ClassShapes.ipynb#W0sZmlsZQ%3D%3D?line=17'>18</a>\u001b[0m \u001b[39mself\u001b[39m\u001b[39m.\u001b[39mz \u001b[39m=\u001b[39m \u001b[39mself\u001b[39m\u001b[39m.\u001b[39mz\n\u001b[1;32m---> <a href='vscode-notebook-cell:/d%3A/School%20Related/Cert/AWS/AWS%20folder/restart-homework/HW6ClassShapes.ipynb#W0sZmlsZQ%3D%3D?line=18'>19</a>\u001b[0m \u001b[39mself\u001b[39m\u001b[39m.\u001b[39mcalculated_area \u001b[39m=\u001b[39m \u001b[39mself\u001b[39;49m\u001b[39m.\u001b[39;49mcalculated_area\n\u001b[0;32m     <a href='vscode-notebook-cell:/d%3A/School%20Related/Cert/AWS/AWS%20folder/restart-homework/HW6ClassShapes.ipynb#W0sZmlsZQ%3D%3D?line=19'>20</a>\u001b[0m \u001b[39mself\u001b[39m\u001b[39m.\u001b[39mcalculated_area \u001b[39m=\u001b[39m (\u001b[39mself\u001b[39m\u001b[39m.\u001b[39mx \u001b[39m+\u001b[39m \u001b[39mself\u001b[39m\u001b[39m.\u001b[39my)\u001b[39m/\u001b[39m\u001b[39m2\u001b[39m\n",
      "\u001b[1;31mAttributeError\u001b[0m: 'Triangle' object has no attribute 'calculated_area'"
     ]
    }
   ],
   "source": [
    "#This Hw is an exercise in using classes to define the area of shapes.\n",
    "\n",
    "class Shape:\n",
    "    def area(self):\n",
    "        pass\n",
    "    \n",
    "    \n",
    "class Triangle(Shape):\n",
    "    def __init__(self, x, y, z):\n",
    "        self.x = x\n",
    "        self.y = y\n",
    "        self.z = z\n",
    "        assert (x + y) > z\n",
    "        \n",
    "    def area(self, calculated_area):\n",
    "        self.x = self.x\n",
    "        self.y = self.y\n",
    "        self.z = self.z\n",
    "        self.calculated_area = self.calculated_area\n",
    "        self.calculated_area = (self.x + self.y)/2\n",
    "\n",
    "        \n",
    "        \n",
    "        \n",
    "right_triangle = Triangle(3, 4, 5) \n",
    "right_triangle.area(calculated_area = 3.5)\n",
    "print(right_triangle)   \n",
    "print(right_triangle.__dict__)   \n"
   ]
  }
 ],
 "metadata": {
  "kernelspec": {
   "display_name": "Python 3",
   "language": "python",
   "name": "python3"
  },
  "language_info": {
   "codemirror_mode": {
    "name": "ipython",
    "version": 3
   },
   "file_extension": ".py",
   "mimetype": "text/x-python",
   "name": "python",
   "nbconvert_exporter": "python",
   "pygments_lexer": "ipython3",
   "version": "3.12.0"
  }
 },
 "nbformat": 4,
 "nbformat_minor": 2
}
