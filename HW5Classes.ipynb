{
 "cells": [
  {
   "cell_type": "code",
   "execution_count": 10,
   "metadata": {},
   "outputs": [
    {
     "name": "stdout",
     "output_type": "stream",
     "text": [
      "{'brand': 'BMW', 'mileage_km': 3100, 'range': 400}\n",
      "<__main__.ElectricCar object at 0x00000270761F6A20>\n",
      "{'brand': 'Honda', 'mileage_km': 1900, 'fuel_consumption': 7, 'fuel_level': 7.999999999999994}\n",
      "<__main__.ICECar object at 0x00000270761F4BC0>\n"
     ]
    }
   ],
   "source": [
    "class Cars:\n",
    "    def __init__(self, brand, mileage_km):\n",
    "        self.brand = brand\n",
    "        self.mileage_km = mileage_km\n",
    "        \n",
    "    def driving(self, distance):        #driving method\n",
    "        self.mileage_km = self.mileage_km + distance\n",
    "\n",
    "\n",
    "        \n",
    "class ElectricCar(Cars): #subclass\n",
    "    def __init__(self, brand, mileage_km, range):      #putting pass here wills allow non-defined function/class\n",
    "        super().__init__(brand, mileage_km)             #no need to put self as attribute in (brand, mileage_km) as super() is already doing that.\n",
    "        self.range = range                             #Ideally, you would use super() to show that you are calling the same class. Using the name of a clas usually means that it is another class.\n",
    "        \n",
    "    def driving(self, distance):\n",
    "        self.mileage_km = self.mileage_km + distance\n",
    "        self.range -= distance\n",
    "\n",
    "\n",
    "\n",
    "class ICECar(Cars):\n",
    "    def __init__(self, brand, mileage_km, fuel_consumption, fuel_level):\n",
    "        Cars.__init__(self, brand, mileage_km)\n",
    "        self.fuel_consumption = fuel_consumption\n",
    "        self.fuel_level = fuel_level\n",
    "\n",
    "    def driving(self, distance):\n",
    "        self.mileage_km = self.mileage_km + distance\n",
    "        self.fuel_consumption\n",
    "        self.fuel_level = self.fuel_level - (distance * (self.fuel_consumption / 100))\n",
    "\n",
    "\n",
    "my_ev = ElectricCar(\"BMW\", 2500, 1000)\n",
    "my_ev.driving(distance = 300)\n",
    "my_ev.driving(distance = 200)\n",
    "my_ev.driving(distance = 100)\n",
    "\n",
    "#my_ice = ICEcar(brand = \"Honda\", mileage_km=5000)\n",
    "my_ice = ICECar(\"Honda\", 1300, 7, 50)\n",
    "my_ice.driving(distance = 300)\n",
    "my_ice.driving(distance = 200)\n",
    "my_ice.driving(distance = 100)\n",
    "\n",
    "print(my_ev.__dict__)\n",
    "print(my_ev)\n",
    "\n",
    "print(my_ice.__dict__)\n",
    "print(my_ice)"
   ]
  }
 ],
 "metadata": {
  "kernelspec": {
   "display_name": "Python 3",
   "language": "python",
   "name": "python3"
  },
  "language_info": {
   "codemirror_mode": {
    "name": "ipython",
    "version": 3
   },
   "file_extension": ".py",
   "mimetype": "text/x-python",
   "name": "python",
   "nbconvert_exporter": "python",
   "pygments_lexer": "ipython3",
   "version": "3.12.0"
  }
 },
 "nbformat": 4,
 "nbformat_minor": 2
}
