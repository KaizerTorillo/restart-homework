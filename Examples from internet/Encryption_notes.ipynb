{
 "cells": [
  {
   "cell_type": "code",
   "execution_count": 1,
   "metadata": {},
   "outputs": [
    {
     "name": "stdout",
     "output_type": "stream",
     "text": [
      "b'-----BEGIN PUBLIC KEY-----\\nMIIBIjANBgkqhkiG9w0BAQEFAAOCAQ8AMIIBCgKCAQEAlHuujMw8WdrXpL0Hywiy\\n40KtxfjgPnEacGHrkDJOegGff8HJB5ZTw74bpMVIicHKlJgtpP30uMDyJwtVJH5C\\nTVoDfTUXLZARgRf/Ltt20Lq73hANeD4H4SjZxd8s0ibTLtd66HVdN7uHseetysq3\\nv8INO1OvQnDovlMu+qMyl3YClGg+o8EDfqujoTKLdjE3VO4ddORwyx8MQFF/ZLRR\\n75N7eqydTbewvv7EGT+dlNNGyj6dkHyTzcnms+kt6kQUwze8GQpK47CbJnzYMivF\\nASxAr3IK1GtuOO2pigePzz0/fwJtoKuBtMSPISKoPjYi00txwxyp7owsHQ+AS/6f\\nrQIDAQAB\\n-----END PUBLIC KEY-----'\n"
     ]
    }
   ],
   "source": [
    "#This is an example of RSA ecnryption\n",
    "\n",
    "from Crypto.PublicKey import RSA\n",
    "\n",
    "secret_code = \"Unguessable\"\n",
    "key = RSA.generate(2048)\n",
    "encrypted_key = key.export_key(passphrase=secret_code, pkcs=8,\n",
    "                              protection=\"scryptAndAES128-CBC\")\n",
    "\n",
    "file_out = open(\"rsa_key.bin\", \"wb\")\n",
    "file_out.write(encrypted_key)\n",
    "file_out.close()\n",
    "\n",
    "print(key.publickey().export_key())"
   ]
  }
 ],
 "metadata": {
  "language_info": {
   "name": "python"
  }
 },
 "nbformat": 4,
 "nbformat_minor": 2
}
